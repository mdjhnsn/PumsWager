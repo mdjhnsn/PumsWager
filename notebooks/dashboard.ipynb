{
 "cells": [
  {
   "cell_type": "code",
   "execution_count": 1,
   "metadata": {},
   "outputs": [],
   "source": [
    "# import random\n",
    "# import numpy as np\n",
    "import pandas as pd\n",
    "import dash_core_components as dcc\n",
    "import dash_bootstrap_components as dbc\n",
    "import dash_html_components as html\n",
    "from dash.dependencies import Input, Output\n",
    "from jupyter_dash import JupyterDash\n",
    "from sklearn.model_selection import train_test_split\n",
    "from pymongo import MongoClient\n",
    "from xgboost import XGBRegressor\n",
    "from jupyter_dash import JupyterDash\n",
    "import plotly.graph_objects as go\n",
    "import plotly.express as px"
   ]
  },
  {
   "cell_type": "code",
   "execution_count": 2,
   "metadata": {},
   "outputs": [],
   "source": [
    "external_stylesheets = [dbc.themes.BOOTSTRAP]\n",
    "app = JupyterDash(__name__, external_stylesheets=external_stylesheets)\n",
    "server = app.server\n",
    "url = 'mongodb://localhost:27017/'\n",
    "client = MongoClient(url)\n",
    "db = client.pums18"
   ]
  },
  {
   "cell_type": "code",
   "execution_count": 3,
   "metadata": {},
   "outputs": [],
   "source": [
    "def get_sample_df():\n",
    "    data = db.smp.find({})\n",
    "    return pd.DataFrame(list(data)).drop(columns=[\"_id\"])"
   ]
  },
  {
   "cell_type": "code",
   "execution_count": 4,
   "metadata": {},
   "outputs": [],
   "source": [
    "def get_model_df(puma):\n",
    "    data = db.lab.find({\"LOCATION\": puma})\n",
    "    return pd.DataFrame(list(data))"
   ]
  },
  {
   "cell_type": "code",
   "execution_count": 5,
   "metadata": {},
   "outputs": [],
   "source": [
    "def get_options(input_column):  \n",
    "    return [{\"label\": option, \"value\": option} for option in input_column]"
   ]
  },
  {
   "cell_type": "code",
   "execution_count": 6,
   "metadata": {},
   "outputs": [],
   "source": [
    "def get_states():\n",
    "    states = db.loc.distinct(\"STATE\")\n",
    "    return get_options(states)"
   ]
  },
  {
   "cell_type": "code",
   "execution_count": 7,
   "metadata": {},
   "outputs": [],
   "source": [
    "def get_sectors():\n",
    "    sectors = db.ind.distinct(\"SECTOR\")\n",
    "    return get_options(sectors)"
   ]
  },
  {
   "cell_type": "code",
   "execution_count": 8,
   "metadata": {},
   "outputs": [],
   "source": [
    "def get_fields():\n",
    "    fields = db.occ.distinct(\"FIELD\")\n",
    "    return get_options(fields)"
   ]
  },
  {
   "cell_type": "code",
   "execution_count": 9,
   "metadata": {},
   "outputs": [],
   "source": [
    "def get_schooling():\n",
    "    schooling = db.edu.distinct(\"SCHOOLING\")\n",
    "    return get_options(schooling)"
   ]
  },
  {
   "cell_type": "code",
   "execution_count": 10,
   "metadata": {},
   "outputs": [],
   "source": [
    "def get_columns():\n",
    "    colnames = [\"SALARY\", \"HOURS\", \"AGE\", \"FIELD\", \"SECTOR\",]\n",
    "    return get_options(colnames)"
   ]
  },
  {
   "cell_type": "code",
   "execution_count": 11,
   "metadata": {},
   "outputs": [],
   "source": [
    "df = get_sample_df()"
   ]
  },
  {
   "cell_type": "code",
   "execution_count": 12,
   "metadata": {},
   "outputs": [],
   "source": [
    "app.layout = html.Div([\n",
    "    dbc.Tabs([\n",
    "        dbc.Tab(label=\"Viz\",\n",
    "                children=[\n",
    "                    dbc.Col([\n",
    "                        html.H1(\"Visualize data\"),\n",
    "                        html.Hr(),\n",
    "                        dbc.Select(id=\"graph-select\", options=get_columns()),\n",
    "                    ]),\n",
    "                    html.P(),\n",
    "                    dbc.Row([dbc.Col([dcc.Graph(id=\"graph\")])])\n",
    "                ]),\n",
    "        dbc.Tab(label=\"Pred\",\n",
    "                children=[\n",
    "                    dbc.Container([\n",
    "                        html.H1(\"Predict salaries\"),\n",
    "                        html.Hr(),\n",
    "                        dbc.FormGroup([\n",
    "                            html.P(),\n",
    "                            dbc.Row([\n",
    "                                dbc.Col([\n",
    "                                    dbc.Label(\"State\"),\n",
    "                                    dbc.Select(id=\"states\",\n",
    "                                               options=get_states()),\n",
    "                                ]),\n",
    "                                dbc.Col([\n",
    "                                    dbc.Label(\"Schooling\"),\n",
    "                                    dbc.Select(id=\"schooling\",\n",
    "                                               options=get_schooling()),\n",
    "                                ]),\n",
    "                            ]),\n",
    "                            html.P(),\n",
    "                            dbc.Row([\n",
    "                                dbc.Col([\n",
    "                                    dbc.Label(\"Age\"),\n",
    "                                    dbc.Input(id=\"age\", value=40)\n",
    "                                ]),\n",
    "                                dbc.Col([\n",
    "                                    dbc.Label(\"Avg Hrs/Wk\"),\n",
    "                                    dbc.Input(id=\"hrs\", value=40)\n",
    "                                ]),\n",
    "                            ]),\n",
    "                            html.P(),\n",
    "                            dbc.Row([\n",
    "                                dbc.Col([\n",
    "                                    dbc.Label(\"Field\"),\n",
    "                                    dbc.Select(id=\"field\",\n",
    "                                               options=get_fields(),\n",
    "                                               value=0)\n",
    "                                ]),\n",
    "                                dbc.Col([\n",
    "                                    dbc.Label(\"Sector\"),\n",
    "                                    dbc.Select(id=\"sector\",\n",
    "                                               options=get_sectors(),\n",
    "                                               value=0)\n",
    "                                ]),\n",
    "                            ]),\n",
    "                            html.P(),\n",
    "                            dbc.Row([\n",
    "                                dbc.Col([\n",
    "                                    dbc.Label(\"Occupation\"),\n",
    "                                    dbc.Select(id=\"occupation\")\n",
    "                                ]),\n",
    "                                dbc.Col([\n",
    "                                    dbc.Label(\"Industry\"),\n",
    "                                    dbc.Select(id=\"industry\")\n",
    "                                ]),\n",
    "                            ]),\n",
    "                            html.P(),\n",
    "                            dbc.Row([\n",
    "                                dbc.Col([\n",
    "                                    dbc.Label(\"Location\"),\n",
    "                                    dbc.Select(id=\"pumas\"),\n",
    "                                ]),\n",
    "                            ]),\n",
    "                            html.P(),\n",
    "                            dbc.Button(\"Go!\", id=\"go-button\"),\n",
    "                        ]),\n",
    "                    ]),\n",
    "                ]),\n",
    "        dbc.Tab(label=\"Shap\",\n",
    "                children=[\n",
    "                    html.H1(\"Explain results\"),\n",
    "                    html.Hr(),\n",
    "                ]),\n",
    "    ]),\n",
    "])"
   ]
  },
  {
   "cell_type": "code",
   "execution_count": 13,
   "metadata": {},
   "outputs": [],
   "source": [
    "@app.callback(Output('graph-select', 'value'),\n",
    "              [Input('graph-select', 'options')])\n",
    "def get_plotting_selection(available_options):\n",
    "    return available_options[0]['value']\n",
    "\n",
    "\n",
    "@app.callback(Output('states', 'value'), [Input('states', 'options')])\n",
    "def get_state_selection(available_options):\n",
    "    selection = available_options[0]['value']\n",
    "    return selection\n",
    "\n",
    "\n",
    "@app.callback(Output('pumas', 'options'), [Input('states', 'value')])\n",
    "def get_pumas(state):\n",
    "    data = db.loc.find({\"STATE\": state})\n",
    "    df = pd.DataFrame(list(data))\n",
    "    pumas = list(df.LOCATION.values)\n",
    "    return get_options(pumas)\n",
    "\n",
    "\n",
    "@app.callback(Output('pumas', 'value'), [Input('pumas', 'options')])\n",
    "def get_puma_selection(available_options):\n",
    "    return available_options[0]['value']\n",
    "\n",
    "\n",
    "@app.callback(Output('schooling', 'value'), [Input('schooling', 'options')])\n",
    "def get_schooling_selection(available_options):\n",
    "    selection = available_options[0]['value']\n",
    "    return selection\n",
    "\n",
    "\n",
    "@app.callback(Output('sector', 'value'), [Input('sector', 'options')])\n",
    "def get_sector_selection(available_options):\n",
    "    selection = available_options[0]['value']\n",
    "    return selection\n",
    "\n",
    "\n",
    "@app.callback(Output('field', 'value'), [Input('field', 'options')])\n",
    "def get_field_selection(available_options):\n",
    "    selection = available_options[0]['value']\n",
    "    return selection\n",
    "\n",
    "\n",
    "@app.callback(Output('industry', 'options'), [Input('sector', 'value')])\n",
    "def get_industries(sector):\n",
    "    data = db.ind.find({\"SECTOR\": sector})\n",
    "    df = pd.DataFrame(list(data))\n",
    "    industries = list(df.INDUSTRY.values)\n",
    "    return get_options(industries)\n",
    "\n",
    "\n",
    "@app.callback(Output('occupation', 'options'), [Input('field', 'value')])\n",
    "def get_occupations(field):\n",
    "    data = db.occ.find({\"FIELD\": field})\n",
    "    df = pd.DataFrame(list(data))\n",
    "    occupations = list(df.OCCUPATION.values)\n",
    "    return get_options(occupations)\n",
    "\n",
    "\n",
    "@app.callback(Output('occupation', 'value'), [Input('occupation', 'options')])\n",
    "def get_occupation_selection(available_options):\n",
    "    selection = available_options[0]['value']\n",
    "    return selection\n",
    "\n",
    "\n",
    "@app.callback(Output('industry', 'value'), [Input('industry', 'options')])\n",
    "def get_industry_selection(available_options):\n",
    "    selection = available_options[0]['value']\n",
    "    return selection\n",
    "\n",
    "\n",
    "@app.callback(Output('graph', 'figure'), [Input('graph-select', 'value')])\n",
    "def get_graph(column):\n",
    "    fig = px.histogram(get_sample_df(), column, template=\"simple_white\")\n",
    "    return fig"
   ]
  },
  {
   "cell_type": "code",
   "execution_count": 14,
   "metadata": {},
   "outputs": [
    {
     "name": "stdout",
     "output_type": "stream",
     "text": [
      "Dash app running on http://127.0.0.1:8051/\n"
     ]
    }
   ],
   "source": [
    "app.run_server(port=8051)"
   ]
  }
 ],
 "metadata": {
  "hide_input": false,
  "kernelspec": {
   "display_name": "Python 3",
   "language": "python",
   "name": "python3"
  },
  "language_info": {
   "codemirror_mode": {
    "name": "ipython",
    "version": 3
   },
   "file_extension": ".py",
   "mimetype": "text/x-python",
   "name": "python",
   "nbconvert_exporter": "python",
   "pygments_lexer": "ipython3",
   "version": "3.8.5"
  },
  "toc": {
   "base_numbering": 1,
   "nav_menu": {},
   "number_sections": false,
   "sideBar": true,
   "skip_h1_title": false,
   "title_cell": "Table of Contents",
   "title_sidebar": "Contents",
   "toc_cell": false,
   "toc_position": {
    "height": "calc(100% - 180px)",
    "left": "10px",
    "top": "150px",
    "width": "201.792px"
   },
   "toc_section_display": true,
   "toc_window_display": false
  },
  "varInspector": {
   "cols": {
    "lenName": 16,
    "lenType": 16,
    "lenVar": 40
   },
   "kernels_config": {
    "python": {
     "delete_cmd_postfix": "",
     "delete_cmd_prefix": "del ",
     "library": "var_list.py",
     "varRefreshCmd": "print(var_dic_list())"
    },
    "r": {
     "delete_cmd_postfix": ") ",
     "delete_cmd_prefix": "rm(",
     "library": "var_list.r",
     "varRefreshCmd": "cat(var_dic_list()) "
    }
   },
   "types_to_exclude": [
    "module",
    "function",
    "builtin_function_or_method",
    "instance",
    "_Feature"
   ],
   "window_display": false
  }
 },
 "nbformat": 4,
 "nbformat_minor": 4
}
