{
 "cells": [
  {
   "cell_type": "markdown",
   "metadata": {
    "collapsed": true
   },
   "source": [
    "!pip install -r ../app/requirements.txt"
   ]
  },
  {
   "cell_type": "code",
   "execution_count": 1,
   "metadata": {
    "colab": {},
    "colab_type": "code",
    "executionInfo": {
     "elapsed": 805,
     "status": "ok",
     "timestamp": 1599071190791,
     "user": {
      "displayName": "Michael Johnson",
      "photoUrl": "https://lh3.googleusercontent.com/a-/AOh14Gj2-_WnUMxMtTLUyumkMID378wkyHzAj6e4Mv0Utg=s64",
      "userId": "15660784163825676281"
     },
     "user_tz": 420
    },
    "id": "eTIDothpJIF4"
   },
   "outputs": [],
   "source": [
    "import urllib.request\n",
    "import pandas as pd\n",
    "import numpy as np\n",
    "\n",
    "from pymongo import MongoClient\n",
    "from mappings.geo import dict_state, dict_region\n",
    "from mappings.ind import dict_sector, dict_industry\n",
    "from mappings.occ import dict_occupation, dict_field\n",
    "from mappings.edu import dict_schl, dict_educ\n",
    "\n",
    "pd.options.display.float_format = '{:.4f}'.format"
   ]
  },
  {
   "cell_type": "code",
   "execution_count": 2,
   "metadata": {},
   "outputs": [],
   "source": [
    "client = MongoClient('mongodb://0.0.0.0:27017/')\n",
    "\n",
    "db = client.pums18"
   ]
  },
  {
   "cell_type": "code",
   "execution_count": 3,
   "metadata": {
    "colab": {},
    "colab_type": "code",
    "executionInfo": {
     "elapsed": 444,
     "status": "ok",
     "timestamp": 1599071375781,
     "user": {
      "displayName": "Michael Johnson",
      "photoUrl": "https://lh3.googleusercontent.com/a-/AOh14Gj2-_WnUMxMtTLUyumkMID378wkyHzAj6e4Mv0Utg=s64",
      "userId": "15660784163825676281"
     },
     "user_tz": 420
    },
    "id": "F8ACnaZYJ0rM"
   },
   "outputs": [],
   "source": [
    "# Set API call  - SEX,MARHT,RACWHT,RACBLK,RACASN,\n",
    "base = \"https://api.census.gov\"\n",
    "dataset = \"data/2018/acs/acs1/pums\"\n",
    "unfiltered = \"SCHL,OCCP,INDP,REGION,ST,PUMA,PWGTP,ADJINC\"\n",
    "filtered = \"COW=1:8&AGEP=20:80&WKHP=5:99&WAGP=500:99999\"\n",
    "url = f\"{base}/{dataset}?get={unfiltered}&{filtered}\""
   ]
  },
  {
   "cell_type": "code",
   "execution_count": 4,
   "metadata": {
    "colab": {},
    "colab_type": "code",
    "executionInfo": {
     "elapsed": 830,
     "status": "ok",
     "timestamp": 1599071296776,
     "user": {
      "displayName": "Michael Johnson",
      "photoUrl": "https://lh3.googleusercontent.com/a-/AOh14Gj2-_WnUMxMtTLUyumkMID378wkyHzAj6e4Mv0Utg=s64",
      "userId": "15660784163825676281"
     },
     "user_tz": 420
    },
    "id": "wlHN5rac1HVs",
    "pycharm": {
     "is_executing": true
    }
   },
   "outputs": [],
   "source": [
    "# Get API data as text DataFrame\n",
    "r = urllib.request.urlopen(url)\n",
    "df0 = pd.read_json(r.read())\n",
    "r.close()"
   ]
  },
  {
   "cell_type": "code",
   "execution_count": 5,
   "metadata": {
    "pycharm": {
     "is_executing": true
    }
   },
   "outputs": [],
   "source": [
    "# Get column names then drop first row\n",
    "df0.columns = df0.iloc[0, :]\n",
    "df0 = df0.drop(index=0)"
   ]
  },
  {
   "cell_type": "code",
   "execution_count": 6,
   "metadata": {
    "colab": {},
    "colab_type": "code",
    "executionInfo": {
     "elapsed": 9809,
     "status": "ok",
     "timestamp": 1599071310888,
     "user": {
      "displayName": "Michael Johnson",
      "photoUrl": "https://lh3.googleusercontent.com/a-/AOh14Gj2-_WnUMxMtTLUyumkMID378wkyHzAj6e4Mv0Utg=s64",
      "userId": "15660784163825676281"
     },
     "user_tz": 420
    },
    "id": "Ev-ZpYpc1M08",
    "pycharm": {
     "is_executing": true
    }
   },
   "outputs": [],
   "source": [
    "# Cast all columns as numeric\n",
    "for c in df0.columns :\n",
    "    df0[c] = pd.to_numeric(df0[c])"
   ]
  },
  {
   "cell_type": "code",
   "execution_count": 7,
   "metadata": {
    "colab": {},
    "colab_type": "code",
    "executionInfo": {
     "elapsed": 9809,
     "status": "ok",
     "timestamp": 1599071310888,
     "user": {
      "displayName": "Michael Johnson",
      "photoUrl": "https://lh3.googleusercontent.com/a-/AOh14Gj2-_WnUMxMtTLUyumkMID378wkyHzAj6e4Mv0Utg=s64",
      "userId": "15660784163825676281"
     },
     "user_tz": 420
    },
    "id": "Ev-ZpYpc1M08",
    "pycharm": {
     "is_executing": true
    }
   },
   "outputs": [],
   "source": [
    "# Define hourly wage based on 12mo avg \n",
    "df0['WAGE'] = (df0['WAGP']*df0['ADJINC'])/(df0['WKHP']*52)"
   ]
  },
  {
   "cell_type": "code",
   "execution_count": 8,
   "metadata": {
    "colab": {},
    "colab_type": "code",
    "executionInfo": {
     "elapsed": 9809,
     "status": "ok",
     "timestamp": 1599071310888,
     "user": {
      "displayName": "Michael Johnson",
      "photoUrl": "https://lh3.googleusercontent.com/a-/AOh14Gj2-_WnUMxMtTLUyumkMID378wkyHzAj6e4Mv0Utg=s64",
      "userId": "15660784163825676281"
     },
     "user_tz": 420
    },
    "id": "Ev-ZpYpc1M08",
    "pycharm": {
     "is_executing": true
    }
   },
   "outputs": [],
   "source": [
    "# Calculate log of wage for modeling\n",
    "df0['WLOG'] = np.log10(df0['WAGE'])"
   ]
  },
  {
   "cell_type": "code",
   "execution_count": 9,
   "metadata": {
    "colab": {},
    "colab_type": "code",
    "executionInfo": {
     "elapsed": 9809,
     "status": "ok",
     "timestamp": 1599071310888,
     "user": {
      "displayName": "Michael Johnson",
      "photoUrl": "https://lh3.googleusercontent.com/a-/AOh14Gj2-_WnUMxMtTLUyumkMID378wkyHzAj6e4Mv0Utg=s64",
      "userId": "15660784163825676281"
     },
     "user_tz": 420
    },
    "id": "Ev-ZpYpc1M08",
    "pycharm": {
     "is_executing": true
    }
   },
   "outputs": [],
   "source": [
    "# Do updates on a copy of the original\n",
    "df = df0.copy()"
   ]
  },
  {
   "cell_type": "code",
   "execution_count": 10,
   "metadata": {},
   "outputs": [],
   "source": [
    "# Merge PUMA labels dataframe\n",
    "df_pumas = pd.read_csv('../data/etc/PUMA_2010_Labels.csv')\n",
    "df = df.merge(df_pumas, left_on=['ST','PUMA'], right_on=['STATEFP','PUMA5CE'], how='left')"
   ]
  },
  {
   "cell_type": "code",
   "execution_count": 11,
   "metadata": {},
   "outputs": [],
   "source": [
    "# Rename columns\n",
    "mapper = {\n",
    "    'PUMA NAME':'LOCATION',\n",
    "    'AGEP':'AGE',\n",
    "    'PWGTP':'WGHT',\n",
    "    'WAGP':'SALARY',\n",
    "    'WKHP':'HOURS',\n",
    "    'REGION':'REGION_CD'\n",
    "}\n",
    "df = df.rename(columns=mapper)"
   ]
  },
  {
   "cell_type": "code",
   "execution_count": 12,
   "metadata": {},
   "outputs": [],
   "source": [
    "# Label coded values\n",
    "df['SCHOOLING'] = df['SCHL'].map(dict_schl)\n",
    "df['OCCUPATION'] = df['OCCP'].map(dict_occupation)\n",
    "df['INDUSTRY'] = df['INDP'].map(dict_industry)\n",
    "df['FIELD'] = df['OCCP'].map(dict_field)\n",
    "df['SECTOR'] = df['INDP'].map(dict_sector)\n",
    "df['STATE'] = df['ST'].map(dict_state)\n",
    "df['REGION'] = df['REGION_CD'].map(dict_region)"
   ]
  },
  {
   "cell_type": "code",
   "execution_count": 13,
   "metadata": {},
   "outputs": [],
   "source": [
    "# Add custom bins for age group and weekly hours\n",
    "df['AGEGROUP'] = pd.cut(df['AGE'], [0,29,40,50,100],labels=['20s', '30s', '40s', '50+'])\n",
    "df['WKHRS'] = pd.cut(df['HOURS'], [0,39,40,50,100],labels=['Under 40 hrs', '40 hrs', '41-50 hrs','Over 50 hrs'])"
   ]
  },
  {
   "cell_type": "code",
   "execution_count": 14,
   "metadata": {
    "colab": {},
    "colab_type": "code",
    "executionInfo": {
     "elapsed": 23201,
     "status": "ok",
     "timestamp": 1599071409148,
     "user": {
      "displayName": "Michael Johnson",
      "photoUrl": "https://lh3.googleusercontent.com/a-/AOh14Gj2-_WnUMxMtTLUyumkMID378wkyHzAj6e4Mv0Utg=s64",
      "userId": "15660784163825676281"
     },
     "user_tz": 420
    },
    "id": "S3Q7YnDJ1Tl_",
    "pycharm": {
     "is_executing": true
    }
   },
   "outputs": [],
   "source": [
    "# Save data\n",
    "df.to_csv('../data/etc/pums18_lab.csv', index=False)"
   ]
  },
  {
   "cell_type": "code",
   "execution_count": 17,
   "metadata": {},
   "outputs": [],
   "source": [
    "locs = df[['STATE','LOCATION','ST','PUMA']].drop_duplicates().sort_values(['ST','PUMA']).reset_index(drop=True)\n",
    "inds = df[['INDP','SECTOR','INDUSTRY']].drop_duplicates().sort_values(['INDP']).reset_index(drop=True)\n",
    "occs = df[['OCCP','FIELD', 'OCCUPATION']].drop_duplicates().sort_values(['OCCP']).reset_index(drop=True)\n",
    "educ = df[['SCHL','SCHOOLING']].drop_duplicates().sort_values(['SCHL']).reset_index(drop=True)"
   ]
  },
  {
   "cell_type": "code",
   "execution_count": 18,
   "metadata": {},
   "outputs": [
    {
     "data": {
      "text/plain": [
       "<pymongo.results.InsertManyResult at 0x10f1b0600>"
      ]
     },
     "execution_count": 18,
     "metadata": {},
     "output_type": "execute_result"
    }
   ],
   "source": [
    "db.lab.drop()\n",
    "db.loc.drop()\n",
    "db.ind.drop()\n",
    "db.occ.drop()\n",
    "db.edu.drop()\n",
    "\n",
    "db.lab.insert_many(df.to_dict('records'))\n",
    "db.loc.insert_many(locs.to_dict('records'))\n",
    "db.ind.insert_many(inds.to_dict('records'))\n",
    "db.occ.insert_many(occs.to_dict('records'))\n",
    "db.edu.insert_many(educ.to_dict('records'))"
   ]
  }
 ],
 "metadata": {
  "colab": {
   "authorship_tag": "ABX9TyN5pkz3p8jy1eyWU5yBlT3a",
   "collapsed_sections": [],
   "name": "PumsDataWagePredict1.ipynb",
   "provenance": []
  },
  "kernelspec": {
   "display_name": "Python 3",
   "language": "python",
   "name": "python3"
  },
  "language_info": {
   "codemirror_mode": {
    "name": "ipython",
    "version": 3
   },
   "file_extension": ".py",
   "mimetype": "text/x-python",
   "name": "python",
   "nbconvert_exporter": "python",
   "pygments_lexer": "ipython3",
   "version": "3.8.5"
  },
  "varInspector": {
   "cols": {
    "lenName": 16,
    "lenType": 16,
    "lenVar": 40
   },
   "kernels_config": {
    "python": {
     "delete_cmd_postfix": "",
     "delete_cmd_prefix": "del ",
     "library": "var_list.py",
     "varRefreshCmd": "print(var_dic_list())"
    },
    "r": {
     "delete_cmd_postfix": ") ",
     "delete_cmd_prefix": "rm(",
     "library": "var_list.r",
     "varRefreshCmd": "cat(var_dic_list()) "
    }
   },
   "types_to_exclude": [
    "module",
    "function",
    "builtin_function_or_method",
    "instance",
    "_Feature"
   ],
   "window_display": false
  }
 },
 "nbformat": 4,
 "nbformat_minor": 1
}
